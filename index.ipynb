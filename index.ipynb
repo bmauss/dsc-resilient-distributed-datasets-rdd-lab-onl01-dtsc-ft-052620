{
  "nbformat": 4,
  "nbformat_minor": 0,
  "metadata": {
    "kernelspec": {
      "display_name": "Python 3",
      "language": "python",
      "name": "python3"
    },
    "language_info": {
      "codemirror_mode": {
        "name": "ipython",
        "version": 3
      },
      "file_extension": ".py",
      "mimetype": "text/x-python",
      "name": "python",
      "nbconvert_exporter": "python",
      "pygments_lexer": "ipython3",
      "version": "3.7.3"
    },
    "colab": {
      "name": "index.ipynb",
      "provenance": []
    }
  },
  "cells": [
    {
      "cell_type": "markdown",
      "metadata": {
        "id": "97r_eJgBKoFz",
        "colab_type": "text"
      },
      "source": [
        "## Resilient Distributed Datasets (RDDs) - Lab\n",
        "\n",
        "Resilient Distributed Datasets (RDD) are fundamental data structures of Spark. An RDD is essentially the Spark representation of a set of data, spread across multiple machines, with APIs to let you act on it. An RDD can come from any data source, e.g. text files, a database, a JSON file, etc.\n",
        "\n",
        "\n",
        "## Objectives\n",
        "\n",
        "You will be able to:\n",
        "\n",
        "- Apply the map(func) transformation to a given function on all elements of an RDD in different partitions \n",
        "- Apply a map transformation for all elements of an RDD \n",
        "- Compare the difference between a transformation and an action within RDDs \n",
        "- Use collect(), count(), and take() actions to trigger spark transformations  \n",
        "- Use filter to select data that meets certain specifications within an RDD \n",
        "- Set number of partitions for parallelizing RDDs \n",
        "- Create RDDs from Python collections \n"
      ]
    },
    {
      "cell_type": "markdown",
      "metadata": {
        "id": "_gmY_E1yKoF1",
        "colab_type": "text"
      },
      "source": [
        "## What are RDDs? \n",
        "\n",
        "To get a better understanding of RDDs, let's break down each one of the components of the acronym RDD:\n",
        "\n",
        "Resilient: RDDs are considered \"resilient\" because they have built-in fault tolerance. This means that even if one of the nodes goes offline, RDDs will be able to restore the data. This is already a huge advantage compared to standard storage. If a standard computer dies while performing an operation, all of its memory will be lost in the process. With RDDs, multiple nodes can go offline, and the action will still be held in working memory.\n",
        "\n",
        "Distributed: The data is contained on multiple nodes of a cluster-computing operation. It is efficiently partitioned to allow for parallelism.\n",
        "\n",
        "Dataset: The dataset has been * partitioned * across the multiple nodes. \n",
        "\n",
        "RDDs are the building block upon which more high-level Spark operations are based upon. Chances are, if you are performing an action using Spark, the operation involves RDDs. \n",
        "\n",
        "\n",
        "\n",
        "Key Characteristics of RDDs:\n",
        "\n",
        "- Immutable: Once an RDD is created, it cannot be modified. \n",
        "- Lazily Evaluated: RDDs will not be evaluated until an action is triggered. Essentially, when RDDs are created, they are programmed to perform some action, but that function will not get activated until it is explicitly called. The reason for lazy evaluation is that allows users to organize the actions of their Spark program into smaller actions. It also saves unnecessary computation and memory load.\n",
        "- In-Memory: The operations in Spark are performed in-memory rather than in the database. This is what allows Spark to perform fast operations with very large quantities of data.\n",
        "\n",
        "\n"
      ]
    },
    {
      "cell_type": "markdown",
      "metadata": {
        "id": "oqNhtgcYKoF2",
        "colab_type": "text"
      },
      "source": [
        "### RDD Transformations vs Actions\n",
        "\n",
        "In Spark, we first create a __base RDD__ and then apply one or more transformations to that base RDD following our processing needs. Being immutable means, **once an RDD is created, it cannot be changed**. As a result, **each transformation of an RDD creates a new RDD**. Finally, we can apply one or more **actions** to the RDDs. Spark uses lazy evaluation, so transformations are not actually executed until an action occurs.\n",
        "\n",
        "\n",
        "<img src=\"https://github.com/bmauss/dsc-resilient-distributed-datasets-rdd-lab-onl01-dtsc-ft-052620/blob/master/images/rdd_diagram.png?raw=1\" width=500>"
      ]
    },
    {
      "cell_type": "markdown",
      "metadata": {
        "id": "ukD-d616KoF3",
        "colab_type": "text"
      },
      "source": [
        "### Transformations\n",
        "\n",
        "Transformations create a new dataset from an existing one by passing each dataset element through a function and returning a new RDD representing the results. In short, creating an RDD from an existing RDD is ‘transformation’.\n",
        "All transformations in Spark are lazy. They do not compute their results right away. Instead, they just remember the transformations applied to some base dataset (e.g. a file). The transformations are only computed when an action requires a result that needs to be returned to the driver program.\n",
        "A transformation is an RDD that returns another RDD, like map, flatMap, filter, reduceByKey, join, cogroup, etc.\n",
        "\n",
        "### Actions\n",
        "Actions return final results of RDD computations. Actions trigger execution using lineage graph to load the data into original RDD and carry out all intermediate transformations and return the final results to the driver program or writes it out to the file system. An action returns a value (to a Spark driver - the user program).\n",
        "\n",
        "Here are some key transformations and actions that we will explore.\n",
        "\n",
        "\n",
        "| Transformations   | Actions       |\n",
        "|-------------------|---------------|\n",
        "| map(func)         | reduce(func)  |\n",
        "| filter(func)      | collect()     |\n",
        "| groupByKey()      | count()       |\n",
        "| reduceByKey(func) | first()       |\n",
        "| mapValues(func)   | take()        |\n",
        "| sample()          | countByKey()  |\n",
        "| distinct()        | foreach(func) |\n",
        "| sortByKey()       |               |\n"
      ]
    },
    {
      "cell_type": "markdown",
      "metadata": {
        "id": "20SDUjWxKoF4",
        "colab_type": "text"
      },
      "source": [
        "Let's see how transformations and actions work through a simple example. In this example, we will perform several actions and transformations on RDDs in order to obtain a better understanding of Spark processing. \n",
        "\n",
        "### Create a Python collection \n",
        "\n",
        "We need some data to start experimenting with RDDs. Let's create some sample data and see how RDDs handle it. To practice working with RDDs, we're going to use a simple Python list.\n",
        "\n",
        "- Create a Python list `data` of integers between 1 and 1000 using the `range()` function. \n",
        "- Sanity check: confirm the length of the list (it should be 1000)"
      ]
    },
    {
      "cell_type": "code",
      "metadata": {
        "id": "oxCB-ru8NQbT",
        "colab_type": "code",
        "colab": {}
      },
      "source": [
        "!apt-get install openjdk-8-jdk-headless -qq > /dev/null\n",
        "!wget -q https://archive.apache.org/dist/spark/spark-2.4.5/spark-2.4.5-bin-hadoop2.7.tgz\n",
        "!tar xf spark-2.4.5-bin-hadoop2.7.tgz\n",
        "!pip install -q findspark"
      ],
      "execution_count": 2,
      "outputs": []
    },
    {
      "cell_type": "code",
      "metadata": {
        "id": "c4hn7g-6NUgE",
        "colab_type": "code",
        "colab": {
          "base_uri": "https://localhost:8080/",
          "height": 258
        },
        "outputId": "e9fea28c-8e95-48e9-e749-8e4f2d2fe63f"
      },
      "source": [
        "!pip install pyspark==2.4.5"
      ],
      "execution_count": 5,
      "outputs": [
        {
          "output_type": "stream",
          "text": [
            "Collecting pyspark==2.4.5\n",
            "\u001b[?25l  Downloading https://files.pythonhosted.org/packages/9a/5a/271c416c1c2185b6cb0151b29a91fff6fcaed80173c8584ff6d20e46b465/pyspark-2.4.5.tar.gz (217.8MB)\n",
            "\u001b[K     |████████████████████████████████| 217.8MB 60kB/s \n",
            "\u001b[?25hCollecting py4j==0.10.7\n",
            "\u001b[?25l  Downloading https://files.pythonhosted.org/packages/e3/53/c737818eb9a7dc32a7cd4f1396e787bd94200c3997c72c1dbe028587bd76/py4j-0.10.7-py2.py3-none-any.whl (197kB)\n",
            "\u001b[K     |████████████████████████████████| 204kB 35.5MB/s \n",
            "\u001b[?25hBuilding wheels for collected packages: pyspark\n",
            "  Building wheel for pyspark (setup.py) ... \u001b[?25l\u001b[?25hdone\n",
            "  Created wheel for pyspark: filename=pyspark-2.4.5-py2.py3-none-any.whl size=218257928 sha256=787bf981e1887f7f39be649f5150adb8fd7a241156062933764e0c66e55f77fa\n",
            "  Stored in directory: /root/.cache/pip/wheels/bf/db/04/61d66a5939364e756eb1c1be4ec5bdce6e04047fc7929a3c3c\n",
            "Successfully built pyspark\n",
            "Installing collected packages: py4j, pyspark\n",
            "Successfully installed py4j-0.10.7 pyspark-2.4.5\n"
          ],
          "name": "stdout"
        }
      ]
    },
    {
      "cell_type": "code",
      "metadata": {
        "id": "PZeH00szNbRl",
        "colab_type": "code",
        "colab": {
          "base_uri": "https://localhost:8080/",
          "height": 35
        },
        "outputId": "509911e2-651d-46e1-9532-82d32ebc8111"
      },
      "source": [
        "import pyspark\n",
        "pyspark.__version__"
      ],
      "execution_count": 6,
      "outputs": [
        {
          "output_type": "execute_result",
          "data": {
            "application/vnd.google.colaboratory.intrinsic+json": {
              "type": "string"
            },
            "text/plain": [
              "'2.4.5'"
            ]
          },
          "metadata": {
            "tags": []
          },
          "execution_count": 6
        }
      ]
    },
    {
      "cell_type": "code",
      "metadata": {
        "id": "b2hd4o_QNiHE",
        "colab_type": "code",
        "colab": {}
      },
      "source": [
        "import os\n",
        "# /usr/lib/jvm/java-8-openjdk-amd64\n",
        "os.environ[\"JAVA_HOME\"] = \"/usr/lib/jvm/java-8-openjdk-amd64\"\n",
        "# /content/spark-2.4.5-bin-hadoop2.7\n",
        "os.environ[\"SPARK_HOME\"] = \"/content/spark-2.4.5-bin-hadoop2.7\""
      ],
      "execution_count": 7,
      "outputs": []
    },
    {
      "cell_type": "code",
      "metadata": {
        "id": "FnkX4C9pKoF4",
        "colab_type": "code",
        "colab": {
          "base_uri": "https://localhost:8080/",
          "height": 34
        },
        "outputId": "ddce1364-31ac-4e63-faa9-fe9955c0fdcc"
      },
      "source": [
        "data = list(range(1,1001))\n",
        "len(data)\n",
        "\n",
        "# 1000"
      ],
      "execution_count": 8,
      "outputs": [
        {
          "output_type": "execute_result",
          "data": {
            "text/plain": [
              "1000"
            ]
          },
          "metadata": {
            "tags": []
          },
          "execution_count": 8
        }
      ]
    },
    {
      "cell_type": "markdown",
      "metadata": {
        "id": "Yq_8OvTyKoF_",
        "colab_type": "text"
      },
      "source": [
        "### Initialize an RDD\n",
        "\n",
        "When using Spark to make computations, datasets are treated as lists of entries. Those lists are split into different partitions across different cores or different computers. Each list of data held in memory is a partition of the RDD. The reason why Spark is able to make computations far faster than other big data processing languages is that it allows all data to be stored __in-memory__, which allows for easy access to the data and, in turn, high-speed processing. Here is an example of how the alphabet might be split into different RDDs and held across a distributed collection of nodes:\n",
        "\n",
        "<img src =\"./images/partitions_1.png\" width =\"500\">  \n",
        "To initialize an RDD, first import `pyspark` and then create a SparkContext assigned to the variable `sc`. Use `'local[*]'` as the master."
      ]
    },
    {
      "cell_type": "code",
      "metadata": {
        "id": "JHMzkEayKoF_",
        "colab_type": "code",
        "colab": {}
      },
      "source": [
        "import pyspark\n",
        "sc = pyspark.SparkContext('local[*]')"
      ],
      "execution_count": 10,
      "outputs": []
    },
    {
      "cell_type": "markdown",
      "metadata": {
        "id": "ZXVhvyW5KoGD",
        "colab_type": "text"
      },
      "source": [
        "Once you've created the SparkContext, you can use the `.parallelize()` method to create an RDD that will distribute the list of numbers across multiple cores. Here, create one called `rdd` with 10 partitions using `data` as the collection you are parallelizing."
      ]
    },
    {
      "cell_type": "code",
      "metadata": {
        "id": "wElpypQnKoGE",
        "colab_type": "code",
        "colab": {
          "base_uri": "https://localhost:8080/",
          "height": 34
        },
        "outputId": "64c878d0-9a6f-4c00-b062-56ef625992f1"
      },
      "source": [
        "rdd = sc.parallelize(data, numSlices=10)\n",
        "print(type(rdd))\n",
        "# <class 'pyspark.rdd.RDD'>"
      ],
      "execution_count": 13,
      "outputs": [
        {
          "output_type": "stream",
          "text": [
            "<class 'pyspark.rdd.RDD'>\n"
          ],
          "name": "stdout"
        }
      ]
    },
    {
      "cell_type": "markdown",
      "metadata": {
        "id": "TXr2d9YvKoGH",
        "colab_type": "text"
      },
      "source": [
        "Determine how many partitions are being used with this RDD with the `.getNumPartitions()` method."
      ]
    },
    {
      "cell_type": "code",
      "metadata": {
        "id": "2zO-Ca9FKoGI",
        "colab_type": "code",
        "colab": {
          "base_uri": "https://localhost:8080/",
          "height": 34
        },
        "outputId": "b6ed7339-c8a4-4ca8-a430-c12b4562cc67"
      },
      "source": [
        "rdd.getNumPartitions()\n",
        "# 10"
      ],
      "execution_count": 14,
      "outputs": [
        {
          "output_type": "execute_result",
          "data": {
            "text/plain": [
              "10"
            ]
          },
          "metadata": {
            "tags": []
          },
          "execution_count": 14
        }
      ]
    },
    {
      "cell_type": "markdown",
      "metadata": {
        "id": "1C2t9jquKoGL",
        "colab_type": "text"
      },
      "source": [
        "### Basic descriptive RDD actions\n",
        "\n",
        "Let's perform some basic operations on our RDD. In the cell below, use the methods:\n",
        "* `count`: returns the total count of items in the RDD \n",
        "* `first`: returns the first item in the RDD\n",
        "* `take`: returns the first `n` items in the RDD\n",
        "* `top`: returns the top `n` items\n",
        "* `collect`: returns everything from your RDD\n",
        "\n",
        "\n",
        "It's important to note that in a big data context, calling the collect method will often take a very long time to execute and should be handled with care!"
      ]
    },
    {
      "cell_type": "code",
      "metadata": {
        "scrolled": true,
        "id": "A618iP6PKoGO",
        "colab_type": "code",
        "colab": {
          "base_uri": "https://localhost:8080/",
          "height": 34
        },
        "outputId": "38794807-ba19-4296-c625-30bb512a36b2"
      },
      "source": [
        "# count\n",
        "rdd.count()"
      ],
      "execution_count": 15,
      "outputs": [
        {
          "output_type": "execute_result",
          "data": {
            "text/plain": [
              "1000"
            ]
          },
          "metadata": {
            "tags": []
          },
          "execution_count": 15
        }
      ]
    },
    {
      "cell_type": "code",
      "metadata": {
        "id": "3n1GK-WkKoGQ",
        "colab_type": "code",
        "colab": {
          "base_uri": "https://localhost:8080/",
          "height": 34
        },
        "outputId": "49eef4a9-82bc-4004-e673-119912007e09"
      },
      "source": [
        "# first\n",
        "rdd.first()"
      ],
      "execution_count": 16,
      "outputs": [
        {
          "output_type": "execute_result",
          "data": {
            "text/plain": [
              "1"
            ]
          },
          "metadata": {
            "tags": []
          },
          "execution_count": 16
        }
      ]
    },
    {
      "cell_type": "code",
      "metadata": {
        "id": "gVYtuhLcKoGT",
        "colab_type": "code",
        "colab": {
          "base_uri": "https://localhost:8080/",
          "height": 34
        },
        "outputId": "84540f0c-a2e8-4898-b0b1-52553b6159cc"
      },
      "source": [
        "# take\n",
        "rdd.take(10)"
      ],
      "execution_count": 19,
      "outputs": [
        {
          "output_type": "execute_result",
          "data": {
            "text/plain": [
              "[1, 2, 3, 4, 5, 6, 7, 8, 9, 10]"
            ]
          },
          "metadata": {
            "tags": []
          },
          "execution_count": 19
        }
      ]
    },
    {
      "cell_type": "code",
      "metadata": {
        "id": "v_8UtYldKoGV",
        "colab_type": "code",
        "colab": {
          "base_uri": "https://localhost:8080/",
          "height": 34
        },
        "outputId": "533282d7-813a-40fe-a68b-568222ffc55f"
      },
      "source": [
        "# top\n",
        "rdd.top(6)"
      ],
      "execution_count": 21,
      "outputs": [
        {
          "output_type": "execute_result",
          "data": {
            "text/plain": [
              "[1000, 999, 998, 997, 996, 995]"
            ]
          },
          "metadata": {
            "tags": []
          },
          "execution_count": 21
        }
      ]
    },
    {
      "cell_type": "code",
      "metadata": {
        "scrolled": true,
        "id": "P8TnlVLyKoGX",
        "colab_type": "code",
        "colab": {
          "base_uri": "https://localhost:8080/",
          "height": 1000
        },
        "outputId": "479a54d8-14ec-428d-c3de-4868d945811c"
      },
      "source": [
        "# collect\n",
        "rdd.collect()"
      ],
      "execution_count": 22,
      "outputs": [
        {
          "output_type": "execute_result",
          "data": {
            "text/plain": [
              "[1,\n",
              " 2,\n",
              " 3,\n",
              " 4,\n",
              " 5,\n",
              " 6,\n",
              " 7,\n",
              " 8,\n",
              " 9,\n",
              " 10,\n",
              " 11,\n",
              " 12,\n",
              " 13,\n",
              " 14,\n",
              " 15,\n",
              " 16,\n",
              " 17,\n",
              " 18,\n",
              " 19,\n",
              " 20,\n",
              " 21,\n",
              " 22,\n",
              " 23,\n",
              " 24,\n",
              " 25,\n",
              " 26,\n",
              " 27,\n",
              " 28,\n",
              " 29,\n",
              " 30,\n",
              " 31,\n",
              " 32,\n",
              " 33,\n",
              " 34,\n",
              " 35,\n",
              " 36,\n",
              " 37,\n",
              " 38,\n",
              " 39,\n",
              " 40,\n",
              " 41,\n",
              " 42,\n",
              " 43,\n",
              " 44,\n",
              " 45,\n",
              " 46,\n",
              " 47,\n",
              " 48,\n",
              " 49,\n",
              " 50,\n",
              " 51,\n",
              " 52,\n",
              " 53,\n",
              " 54,\n",
              " 55,\n",
              " 56,\n",
              " 57,\n",
              " 58,\n",
              " 59,\n",
              " 60,\n",
              " 61,\n",
              " 62,\n",
              " 63,\n",
              " 64,\n",
              " 65,\n",
              " 66,\n",
              " 67,\n",
              " 68,\n",
              " 69,\n",
              " 70,\n",
              " 71,\n",
              " 72,\n",
              " 73,\n",
              " 74,\n",
              " 75,\n",
              " 76,\n",
              " 77,\n",
              " 78,\n",
              " 79,\n",
              " 80,\n",
              " 81,\n",
              " 82,\n",
              " 83,\n",
              " 84,\n",
              " 85,\n",
              " 86,\n",
              " 87,\n",
              " 88,\n",
              " 89,\n",
              " 90,\n",
              " 91,\n",
              " 92,\n",
              " 93,\n",
              " 94,\n",
              " 95,\n",
              " 96,\n",
              " 97,\n",
              " 98,\n",
              " 99,\n",
              " 100,\n",
              " 101,\n",
              " 102,\n",
              " 103,\n",
              " 104,\n",
              " 105,\n",
              " 106,\n",
              " 107,\n",
              " 108,\n",
              " 109,\n",
              " 110,\n",
              " 111,\n",
              " 112,\n",
              " 113,\n",
              " 114,\n",
              " 115,\n",
              " 116,\n",
              " 117,\n",
              " 118,\n",
              " 119,\n",
              " 120,\n",
              " 121,\n",
              " 122,\n",
              " 123,\n",
              " 124,\n",
              " 125,\n",
              " 126,\n",
              " 127,\n",
              " 128,\n",
              " 129,\n",
              " 130,\n",
              " 131,\n",
              " 132,\n",
              " 133,\n",
              " 134,\n",
              " 135,\n",
              " 136,\n",
              " 137,\n",
              " 138,\n",
              " 139,\n",
              " 140,\n",
              " 141,\n",
              " 142,\n",
              " 143,\n",
              " 144,\n",
              " 145,\n",
              " 146,\n",
              " 147,\n",
              " 148,\n",
              " 149,\n",
              " 150,\n",
              " 151,\n",
              " 152,\n",
              " 153,\n",
              " 154,\n",
              " 155,\n",
              " 156,\n",
              " 157,\n",
              " 158,\n",
              " 159,\n",
              " 160,\n",
              " 161,\n",
              " 162,\n",
              " 163,\n",
              " 164,\n",
              " 165,\n",
              " 166,\n",
              " 167,\n",
              " 168,\n",
              " 169,\n",
              " 170,\n",
              " 171,\n",
              " 172,\n",
              " 173,\n",
              " 174,\n",
              " 175,\n",
              " 176,\n",
              " 177,\n",
              " 178,\n",
              " 179,\n",
              " 180,\n",
              " 181,\n",
              " 182,\n",
              " 183,\n",
              " 184,\n",
              " 185,\n",
              " 186,\n",
              " 187,\n",
              " 188,\n",
              " 189,\n",
              " 190,\n",
              " 191,\n",
              " 192,\n",
              " 193,\n",
              " 194,\n",
              " 195,\n",
              " 196,\n",
              " 197,\n",
              " 198,\n",
              " 199,\n",
              " 200,\n",
              " 201,\n",
              " 202,\n",
              " 203,\n",
              " 204,\n",
              " 205,\n",
              " 206,\n",
              " 207,\n",
              " 208,\n",
              " 209,\n",
              " 210,\n",
              " 211,\n",
              " 212,\n",
              " 213,\n",
              " 214,\n",
              " 215,\n",
              " 216,\n",
              " 217,\n",
              " 218,\n",
              " 219,\n",
              " 220,\n",
              " 221,\n",
              " 222,\n",
              " 223,\n",
              " 224,\n",
              " 225,\n",
              " 226,\n",
              " 227,\n",
              " 228,\n",
              " 229,\n",
              " 230,\n",
              " 231,\n",
              " 232,\n",
              " 233,\n",
              " 234,\n",
              " 235,\n",
              " 236,\n",
              " 237,\n",
              " 238,\n",
              " 239,\n",
              " 240,\n",
              " 241,\n",
              " 242,\n",
              " 243,\n",
              " 244,\n",
              " 245,\n",
              " 246,\n",
              " 247,\n",
              " 248,\n",
              " 249,\n",
              " 250,\n",
              " 251,\n",
              " 252,\n",
              " 253,\n",
              " 254,\n",
              " 255,\n",
              " 256,\n",
              " 257,\n",
              " 258,\n",
              " 259,\n",
              " 260,\n",
              " 261,\n",
              " 262,\n",
              " 263,\n",
              " 264,\n",
              " 265,\n",
              " 266,\n",
              " 267,\n",
              " 268,\n",
              " 269,\n",
              " 270,\n",
              " 271,\n",
              " 272,\n",
              " 273,\n",
              " 274,\n",
              " 275,\n",
              " 276,\n",
              " 277,\n",
              " 278,\n",
              " 279,\n",
              " 280,\n",
              " 281,\n",
              " 282,\n",
              " 283,\n",
              " 284,\n",
              " 285,\n",
              " 286,\n",
              " 287,\n",
              " 288,\n",
              " 289,\n",
              " 290,\n",
              " 291,\n",
              " 292,\n",
              " 293,\n",
              " 294,\n",
              " 295,\n",
              " 296,\n",
              " 297,\n",
              " 298,\n",
              " 299,\n",
              " 300,\n",
              " 301,\n",
              " 302,\n",
              " 303,\n",
              " 304,\n",
              " 305,\n",
              " 306,\n",
              " 307,\n",
              " 308,\n",
              " 309,\n",
              " 310,\n",
              " 311,\n",
              " 312,\n",
              " 313,\n",
              " 314,\n",
              " 315,\n",
              " 316,\n",
              " 317,\n",
              " 318,\n",
              " 319,\n",
              " 320,\n",
              " 321,\n",
              " 322,\n",
              " 323,\n",
              " 324,\n",
              " 325,\n",
              " 326,\n",
              " 327,\n",
              " 328,\n",
              " 329,\n",
              " 330,\n",
              " 331,\n",
              " 332,\n",
              " 333,\n",
              " 334,\n",
              " 335,\n",
              " 336,\n",
              " 337,\n",
              " 338,\n",
              " 339,\n",
              " 340,\n",
              " 341,\n",
              " 342,\n",
              " 343,\n",
              " 344,\n",
              " 345,\n",
              " 346,\n",
              " 347,\n",
              " 348,\n",
              " 349,\n",
              " 350,\n",
              " 351,\n",
              " 352,\n",
              " 353,\n",
              " 354,\n",
              " 355,\n",
              " 356,\n",
              " 357,\n",
              " 358,\n",
              " 359,\n",
              " 360,\n",
              " 361,\n",
              " 362,\n",
              " 363,\n",
              " 364,\n",
              " 365,\n",
              " 366,\n",
              " 367,\n",
              " 368,\n",
              " 369,\n",
              " 370,\n",
              " 371,\n",
              " 372,\n",
              " 373,\n",
              " 374,\n",
              " 375,\n",
              " 376,\n",
              " 377,\n",
              " 378,\n",
              " 379,\n",
              " 380,\n",
              " 381,\n",
              " 382,\n",
              " 383,\n",
              " 384,\n",
              " 385,\n",
              " 386,\n",
              " 387,\n",
              " 388,\n",
              " 389,\n",
              " 390,\n",
              " 391,\n",
              " 392,\n",
              " 393,\n",
              " 394,\n",
              " 395,\n",
              " 396,\n",
              " 397,\n",
              " 398,\n",
              " 399,\n",
              " 400,\n",
              " 401,\n",
              " 402,\n",
              " 403,\n",
              " 404,\n",
              " 405,\n",
              " 406,\n",
              " 407,\n",
              " 408,\n",
              " 409,\n",
              " 410,\n",
              " 411,\n",
              " 412,\n",
              " 413,\n",
              " 414,\n",
              " 415,\n",
              " 416,\n",
              " 417,\n",
              " 418,\n",
              " 419,\n",
              " 420,\n",
              " 421,\n",
              " 422,\n",
              " 423,\n",
              " 424,\n",
              " 425,\n",
              " 426,\n",
              " 427,\n",
              " 428,\n",
              " 429,\n",
              " 430,\n",
              " 431,\n",
              " 432,\n",
              " 433,\n",
              " 434,\n",
              " 435,\n",
              " 436,\n",
              " 437,\n",
              " 438,\n",
              " 439,\n",
              " 440,\n",
              " 441,\n",
              " 442,\n",
              " 443,\n",
              " 444,\n",
              " 445,\n",
              " 446,\n",
              " 447,\n",
              " 448,\n",
              " 449,\n",
              " 450,\n",
              " 451,\n",
              " 452,\n",
              " 453,\n",
              " 454,\n",
              " 455,\n",
              " 456,\n",
              " 457,\n",
              " 458,\n",
              " 459,\n",
              " 460,\n",
              " 461,\n",
              " 462,\n",
              " 463,\n",
              " 464,\n",
              " 465,\n",
              " 466,\n",
              " 467,\n",
              " 468,\n",
              " 469,\n",
              " 470,\n",
              " 471,\n",
              " 472,\n",
              " 473,\n",
              " 474,\n",
              " 475,\n",
              " 476,\n",
              " 477,\n",
              " 478,\n",
              " 479,\n",
              " 480,\n",
              " 481,\n",
              " 482,\n",
              " 483,\n",
              " 484,\n",
              " 485,\n",
              " 486,\n",
              " 487,\n",
              " 488,\n",
              " 489,\n",
              " 490,\n",
              " 491,\n",
              " 492,\n",
              " 493,\n",
              " 494,\n",
              " 495,\n",
              " 496,\n",
              " 497,\n",
              " 498,\n",
              " 499,\n",
              " 500,\n",
              " 501,\n",
              " 502,\n",
              " 503,\n",
              " 504,\n",
              " 505,\n",
              " 506,\n",
              " 507,\n",
              " 508,\n",
              " 509,\n",
              " 510,\n",
              " 511,\n",
              " 512,\n",
              " 513,\n",
              " 514,\n",
              " 515,\n",
              " 516,\n",
              " 517,\n",
              " 518,\n",
              " 519,\n",
              " 520,\n",
              " 521,\n",
              " 522,\n",
              " 523,\n",
              " 524,\n",
              " 525,\n",
              " 526,\n",
              " 527,\n",
              " 528,\n",
              " 529,\n",
              " 530,\n",
              " 531,\n",
              " 532,\n",
              " 533,\n",
              " 534,\n",
              " 535,\n",
              " 536,\n",
              " 537,\n",
              " 538,\n",
              " 539,\n",
              " 540,\n",
              " 541,\n",
              " 542,\n",
              " 543,\n",
              " 544,\n",
              " 545,\n",
              " 546,\n",
              " 547,\n",
              " 548,\n",
              " 549,\n",
              " 550,\n",
              " 551,\n",
              " 552,\n",
              " 553,\n",
              " 554,\n",
              " 555,\n",
              " 556,\n",
              " 557,\n",
              " 558,\n",
              " 559,\n",
              " 560,\n",
              " 561,\n",
              " 562,\n",
              " 563,\n",
              " 564,\n",
              " 565,\n",
              " 566,\n",
              " 567,\n",
              " 568,\n",
              " 569,\n",
              " 570,\n",
              " 571,\n",
              " 572,\n",
              " 573,\n",
              " 574,\n",
              " 575,\n",
              " 576,\n",
              " 577,\n",
              " 578,\n",
              " 579,\n",
              " 580,\n",
              " 581,\n",
              " 582,\n",
              " 583,\n",
              " 584,\n",
              " 585,\n",
              " 586,\n",
              " 587,\n",
              " 588,\n",
              " 589,\n",
              " 590,\n",
              " 591,\n",
              " 592,\n",
              " 593,\n",
              " 594,\n",
              " 595,\n",
              " 596,\n",
              " 597,\n",
              " 598,\n",
              " 599,\n",
              " 600,\n",
              " 601,\n",
              " 602,\n",
              " 603,\n",
              " 604,\n",
              " 605,\n",
              " 606,\n",
              " 607,\n",
              " 608,\n",
              " 609,\n",
              " 610,\n",
              " 611,\n",
              " 612,\n",
              " 613,\n",
              " 614,\n",
              " 615,\n",
              " 616,\n",
              " 617,\n",
              " 618,\n",
              " 619,\n",
              " 620,\n",
              " 621,\n",
              " 622,\n",
              " 623,\n",
              " 624,\n",
              " 625,\n",
              " 626,\n",
              " 627,\n",
              " 628,\n",
              " 629,\n",
              " 630,\n",
              " 631,\n",
              " 632,\n",
              " 633,\n",
              " 634,\n",
              " 635,\n",
              " 636,\n",
              " 637,\n",
              " 638,\n",
              " 639,\n",
              " 640,\n",
              " 641,\n",
              " 642,\n",
              " 643,\n",
              " 644,\n",
              " 645,\n",
              " 646,\n",
              " 647,\n",
              " 648,\n",
              " 649,\n",
              " 650,\n",
              " 651,\n",
              " 652,\n",
              " 653,\n",
              " 654,\n",
              " 655,\n",
              " 656,\n",
              " 657,\n",
              " 658,\n",
              " 659,\n",
              " 660,\n",
              " 661,\n",
              " 662,\n",
              " 663,\n",
              " 664,\n",
              " 665,\n",
              " 666,\n",
              " 667,\n",
              " 668,\n",
              " 669,\n",
              " 670,\n",
              " 671,\n",
              " 672,\n",
              " 673,\n",
              " 674,\n",
              " 675,\n",
              " 676,\n",
              " 677,\n",
              " 678,\n",
              " 679,\n",
              " 680,\n",
              " 681,\n",
              " 682,\n",
              " 683,\n",
              " 684,\n",
              " 685,\n",
              " 686,\n",
              " 687,\n",
              " 688,\n",
              " 689,\n",
              " 690,\n",
              " 691,\n",
              " 692,\n",
              " 693,\n",
              " 694,\n",
              " 695,\n",
              " 696,\n",
              " 697,\n",
              " 698,\n",
              " 699,\n",
              " 700,\n",
              " 701,\n",
              " 702,\n",
              " 703,\n",
              " 704,\n",
              " 705,\n",
              " 706,\n",
              " 707,\n",
              " 708,\n",
              " 709,\n",
              " 710,\n",
              " 711,\n",
              " 712,\n",
              " 713,\n",
              " 714,\n",
              " 715,\n",
              " 716,\n",
              " 717,\n",
              " 718,\n",
              " 719,\n",
              " 720,\n",
              " 721,\n",
              " 722,\n",
              " 723,\n",
              " 724,\n",
              " 725,\n",
              " 726,\n",
              " 727,\n",
              " 728,\n",
              " 729,\n",
              " 730,\n",
              " 731,\n",
              " 732,\n",
              " 733,\n",
              " 734,\n",
              " 735,\n",
              " 736,\n",
              " 737,\n",
              " 738,\n",
              " 739,\n",
              " 740,\n",
              " 741,\n",
              " 742,\n",
              " 743,\n",
              " 744,\n",
              " 745,\n",
              " 746,\n",
              " 747,\n",
              " 748,\n",
              " 749,\n",
              " 750,\n",
              " 751,\n",
              " 752,\n",
              " 753,\n",
              " 754,\n",
              " 755,\n",
              " 756,\n",
              " 757,\n",
              " 758,\n",
              " 759,\n",
              " 760,\n",
              " 761,\n",
              " 762,\n",
              " 763,\n",
              " 764,\n",
              " 765,\n",
              " 766,\n",
              " 767,\n",
              " 768,\n",
              " 769,\n",
              " 770,\n",
              " 771,\n",
              " 772,\n",
              " 773,\n",
              " 774,\n",
              " 775,\n",
              " 776,\n",
              " 777,\n",
              " 778,\n",
              " 779,\n",
              " 780,\n",
              " 781,\n",
              " 782,\n",
              " 783,\n",
              " 784,\n",
              " 785,\n",
              " 786,\n",
              " 787,\n",
              " 788,\n",
              " 789,\n",
              " 790,\n",
              " 791,\n",
              " 792,\n",
              " 793,\n",
              " 794,\n",
              " 795,\n",
              " 796,\n",
              " 797,\n",
              " 798,\n",
              " 799,\n",
              " 800,\n",
              " 801,\n",
              " 802,\n",
              " 803,\n",
              " 804,\n",
              " 805,\n",
              " 806,\n",
              " 807,\n",
              " 808,\n",
              " 809,\n",
              " 810,\n",
              " 811,\n",
              " 812,\n",
              " 813,\n",
              " 814,\n",
              " 815,\n",
              " 816,\n",
              " 817,\n",
              " 818,\n",
              " 819,\n",
              " 820,\n",
              " 821,\n",
              " 822,\n",
              " 823,\n",
              " 824,\n",
              " 825,\n",
              " 826,\n",
              " 827,\n",
              " 828,\n",
              " 829,\n",
              " 830,\n",
              " 831,\n",
              " 832,\n",
              " 833,\n",
              " 834,\n",
              " 835,\n",
              " 836,\n",
              " 837,\n",
              " 838,\n",
              " 839,\n",
              " 840,\n",
              " 841,\n",
              " 842,\n",
              " 843,\n",
              " 844,\n",
              " 845,\n",
              " 846,\n",
              " 847,\n",
              " 848,\n",
              " 849,\n",
              " 850,\n",
              " 851,\n",
              " 852,\n",
              " 853,\n",
              " 854,\n",
              " 855,\n",
              " 856,\n",
              " 857,\n",
              " 858,\n",
              " 859,\n",
              " 860,\n",
              " 861,\n",
              " 862,\n",
              " 863,\n",
              " 864,\n",
              " 865,\n",
              " 866,\n",
              " 867,\n",
              " 868,\n",
              " 869,\n",
              " 870,\n",
              " 871,\n",
              " 872,\n",
              " 873,\n",
              " 874,\n",
              " 875,\n",
              " 876,\n",
              " 877,\n",
              " 878,\n",
              " 879,\n",
              " 880,\n",
              " 881,\n",
              " 882,\n",
              " 883,\n",
              " 884,\n",
              " 885,\n",
              " 886,\n",
              " 887,\n",
              " 888,\n",
              " 889,\n",
              " 890,\n",
              " 891,\n",
              " 892,\n",
              " 893,\n",
              " 894,\n",
              " 895,\n",
              " 896,\n",
              " 897,\n",
              " 898,\n",
              " 899,\n",
              " 900,\n",
              " 901,\n",
              " 902,\n",
              " 903,\n",
              " 904,\n",
              " 905,\n",
              " 906,\n",
              " 907,\n",
              " 908,\n",
              " 909,\n",
              " 910,\n",
              " 911,\n",
              " 912,\n",
              " 913,\n",
              " 914,\n",
              " 915,\n",
              " 916,\n",
              " 917,\n",
              " 918,\n",
              " 919,\n",
              " 920,\n",
              " 921,\n",
              " 922,\n",
              " 923,\n",
              " 924,\n",
              " 925,\n",
              " 926,\n",
              " 927,\n",
              " 928,\n",
              " 929,\n",
              " 930,\n",
              " 931,\n",
              " 932,\n",
              " 933,\n",
              " 934,\n",
              " 935,\n",
              " 936,\n",
              " 937,\n",
              " 938,\n",
              " 939,\n",
              " 940,\n",
              " 941,\n",
              " 942,\n",
              " 943,\n",
              " 944,\n",
              " 945,\n",
              " 946,\n",
              " 947,\n",
              " 948,\n",
              " 949,\n",
              " 950,\n",
              " 951,\n",
              " 952,\n",
              " 953,\n",
              " 954,\n",
              " 955,\n",
              " 956,\n",
              " 957,\n",
              " 958,\n",
              " 959,\n",
              " 960,\n",
              " 961,\n",
              " 962,\n",
              " 963,\n",
              " 964,\n",
              " 965,\n",
              " 966,\n",
              " 967,\n",
              " 968,\n",
              " 969,\n",
              " 970,\n",
              " 971,\n",
              " 972,\n",
              " 973,\n",
              " 974,\n",
              " 975,\n",
              " 976,\n",
              " 977,\n",
              " 978,\n",
              " 979,\n",
              " 980,\n",
              " 981,\n",
              " 982,\n",
              " 983,\n",
              " 984,\n",
              " 985,\n",
              " 986,\n",
              " 987,\n",
              " 988,\n",
              " 989,\n",
              " 990,\n",
              " 991,\n",
              " 992,\n",
              " 993,\n",
              " 994,\n",
              " 995,\n",
              " 996,\n",
              " 997,\n",
              " 998,\n",
              " 999,\n",
              " 1000]"
            ]
          },
          "metadata": {
            "tags": []
          },
          "execution_count": 22
        }
      ]
    },
    {
      "cell_type": "markdown",
      "metadata": {
        "id": "ohJTbPdjKoGZ",
        "colab_type": "text"
      },
      "source": [
        "## Map functions\n",
        "\n",
        "Now that you've been working a little bit with RDDs, let's make this a little more interesting. Imagine you're running a hot new e-commerce startup called BuyStuff, and you're trying to track of how much it charges customers from each item sold. In the next cell, we're going to create simulated data by multiplying the values 1-1000 with a random number from 0-1."
      ]
    },
    {
      "cell_type": "code",
      "metadata": {
        "id": "ScxPw2YRKoGZ",
        "colab_type": "code",
        "colab": {
          "base_uri": "https://localhost:8080/",
          "height": 1000
        },
        "outputId": "8b251ed2-2b47-40d1-de04-73d093509967"
      },
      "source": [
        "import random\n",
        "import numpy as np\n",
        "\n",
        "nums = np.array(range(1, 1001))\n",
        "sales_figures = nums * np.random.rand(1000)\n",
        "sales_figures"
      ],
      "execution_count": 23,
      "outputs": [
        {
          "output_type": "execute_result",
          "data": {
            "text/plain": [
              "array([4.27523811e-01, 4.03151960e-01, 2.27194835e+00, 1.18918404e+00,\n",
              "       4.80593445e+00, 4.39463052e+00, 2.60679735e+00, 1.54323476e+00,\n",
              "       3.31137957e+00, 8.61547237e+00, 8.64744818e+00, 8.16464149e+00,\n",
              "       2.76083796e+00, 1.13233987e+01, 9.18034299e+00, 6.95053885e+00,\n",
              "       1.09385675e+01, 5.30052445e+00, 3.69006176e+00, 1.05298487e+01,\n",
              "       5.81567117e+00, 1.74795162e+01, 5.75522328e+00, 8.13852143e-02,\n",
              "       6.09322446e+00, 1.77283423e+01, 8.60474088e+00, 8.78797092e+00,\n",
              "       1.17422047e+01, 1.41777120e+01, 5.21996889e+00, 1.12454185e+01,\n",
              "       1.65785219e+01, 1.54208226e+01, 4.90701592e-01, 1.44817147e+01,\n",
              "       1.65351696e+01, 6.92161657e+00, 2.96695921e+01, 4.76598422e+00,\n",
              "       5.92928571e+00, 2.89410904e+01, 1.44324663e+01, 3.74865136e+01,\n",
              "       4.44407416e+00, 4.50528750e+01, 2.37996432e+01, 6.98525392e+00,\n",
              "       1.10554949e+01, 3.23196363e+01, 2.66573172e+01, 2.67036338e+01,\n",
              "       3.47813006e+01, 2.38815072e+01, 1.84079327e+00, 4.01855015e+01,\n",
              "       2.25427516e+01, 4.63608354e+01, 5.33388369e+01, 2.97930364e+01,\n",
              "       5.13840514e+01, 1.07792892e+01, 5.16181583e+01, 4.31370938e+01,\n",
              "       1.34553847e+01, 6.16691850e+01, 2.21120411e+01, 1.74833538e+01,\n",
              "       1.20360068e+01, 3.32941738e+00, 9.28621877e+00, 2.19244716e+01,\n",
              "       3.04225991e+01, 2.81706811e+01, 7.33818509e+01, 6.98642347e+01,\n",
              "       4.24351339e+01, 5.47097820e+01, 1.01731607e+01, 7.93827411e+00,\n",
              "       2.19314183e+01, 5.32060307e+01, 2.19976390e+01, 6.75184819e+01,\n",
              "       6.02356046e+01, 3.75134051e+00, 1.32081980e+01, 7.83439940e+00,\n",
              "       3.08867100e+01, 5.11562629e+00, 8.45125581e+01, 2.38481084e+01,\n",
              "       6.83285253e+01, 8.74983574e+01, 6.17904445e+01, 6.75597218e+01,\n",
              "       3.97740100e+01, 7.35028829e+00, 4.22098023e+01, 7.39976912e+01,\n",
              "       5.48333445e+01, 5.39230082e+01, 6.15373010e+01, 5.50071642e+01,\n",
              "       2.26327332e+01, 1.04111753e+02, 1.69693491e+01, 2.56436511e-01,\n",
              "       8.60914827e+01, 1.71779713e+01, 2.53619096e+01, 7.26297016e+01,\n",
              "       7.20874700e+00, 6.30817959e+00, 1.10009256e+02, 5.78142933e+01,\n",
              "       2.15495954e+00, 1.08805271e+01, 2.90509922e+01, 2.83452837e+01,\n",
              "       5.96222176e+01, 1.34141432e+01, 1.22153859e+02, 7.02548708e+01,\n",
              "       8.92227826e+00, 5.64601416e+01, 2.53857787e+01, 1.02008655e+02,\n",
              "       7.61313647e+01, 2.74291498e+01, 3.90254171e+01, 6.08906075e+01,\n",
              "       7.15153008e+01, 2.83270146e+01, 7.24800456e+01, 1.26261477e+02,\n",
              "       8.45638826e+01, 5.63509517e+01, 1.19623688e+02, 1.16397296e+02,\n",
              "       1.18970977e+02, 3.60742939e+01, 9.78276973e+00, 9.70702499e+01,\n",
              "       3.65742695e+01, 2.74560125e+01, 6.43160706e+01, 3.81800610e+01,\n",
              "       2.11922886e+01, 1.24581382e+02, 5.20878213e+01, 9.57003356e+01,\n",
              "       3.80733228e+01, 3.97182379e+01, 2.25104072e+01, 9.12275997e+01,\n",
              "       1.26029100e+02, 5.70845454e+01, 3.43662107e+01, 1.46901792e+02,\n",
              "       2.34831324e+01, 1.30146737e+01, 8.18738833e+01, 1.26223345e+02,\n",
              "       7.05476725e+01, 1.09055100e+01, 4.64095374e+01, 5.97718445e+01,\n",
              "       1.63414394e+01, 1.00335804e+02, 6.94954610e+01, 1.22389634e+02,\n",
              "       1.43550350e+02, 1.03822339e+01, 1.38229920e+02, 1.05724611e+02,\n",
              "       1.60737361e+02, 1.10473355e+02, 3.03879681e+01, 1.12392460e+02,\n",
              "       1.43775303e+02, 8.56729106e+01, 9.12329916e+01, 1.39625414e+02,\n",
              "       7.39364619e+01, 1.51344031e+02, 1.22563414e+02, 1.61716822e+02,\n",
              "       2.89324336e+01, 7.61851128e+01, 6.11484981e+01, 9.95502773e+01,\n",
              "       1.30773517e+02, 1.69885145e+02, 6.76652585e+01, 1.08728268e+01,\n",
              "       5.13326869e+01, 2.01503398e+01, 1.76669029e+02, 1.84651809e+02,\n",
              "       1.21893736e+00, 2.77533577e+01, 1.97135105e+02, 4.81279381e+01,\n",
              "       1.13546034e+02, 8.77764221e+01, 8.91760967e+01, 8.23115518e+01,\n",
              "       7.20393068e+01, 6.41313962e+01, 6.60501261e+01, 1.18279141e+02,\n",
              "       1.45849591e+02, 4.55778782e+01, 1.02212844e+02, 1.58300352e+02,\n",
              "       1.82096485e+02, 1.51587087e+02, 9.59379481e+01, 9.51855633e+01,\n",
              "       1.95130395e+02, 1.76073043e+02, 1.13502793e+02, 1.93123397e+02,\n",
              "       1.87040328e+02, 2.09325302e+02, 6.79093470e+01, 4.83472002e+01,\n",
              "       4.91505645e+01, 3.80994176e+01, 1.78661680e+02, 2.23248952e+02,\n",
              "       3.87098873e+01, 1.64983095e+02, 1.98106272e+02, 6.32995994e+01,\n",
              "       2.20345865e+01, 7.86194680e+01, 2.24694491e+02, 2.28584758e+02,\n",
              "       9.58645991e+01, 2.20061170e+02, 2.10714122e+02, 1.64095088e+02,\n",
              "       1.46686596e+02, 1.23637690e+01, 1.13023859e+02, 1.91136840e+02,\n",
              "       1.61473990e+02, 2.03975120e+02, 1.40589540e+02, 6.75186905e+01,\n",
              "       1.24148526e+02, 2.29713091e+02, 1.51717740e+02, 4.05147208e+01,\n",
              "       4.11923035e+01, 4.75136452e+01, 1.48433738e+02, 2.31135002e+02,\n",
              "       9.41383912e+01, 1.04110482e+02, 3.64637194e+01, 1.67640910e+02,\n",
              "       1.81851123e+02, 2.00854523e+02, 6.35604731e+01, 1.22968348e+02,\n",
              "       5.22914458e+01, 1.22576102e+02, 2.69913051e+02, 1.32376925e+02,\n",
              "       9.55956932e+01, 1.27295545e+02, 1.17448337e+02, 1.99987797e+02,\n",
              "       9.58166342e+01, 1.93211840e+02, 2.13129960e+02, 1.50278768e+02,\n",
              "       2.42987587e+01, 1.79862517e+01, 2.25491462e+02, 2.12746453e+02,\n",
              "       2.79029487e+02, 2.62056026e+02, 2.83847375e+02, 2.03248658e+02,\n",
              "       4.88945779e+01, 5.45202139e+00, 1.11246509e+02, 5.70813692e+00,\n",
              "       5.53115410e+01, 2.66708814e+02, 2.48129224e+02, 4.72654380e+01,\n",
              "       3.37635968e+01, 1.18136221e+02, 9.61371969e+00, 1.10881911e+02,\n",
              "       2.71235582e+02, 7.02554390e+01, 6.78152082e+01, 5.06412454e+01,\n",
              "       1.44871031e+02, 5.40150706e+01, 2.79326152e+02, 7.47240165e+01,\n",
              "       1.34713417e+02, 1.71890028e+02, 1.39244266e+02, 1.65513405e+02,\n",
              "       2.94125342e+02, 4.16102881e+01, 4.48906411e+00, 2.93152785e+02,\n",
              "       2.20046770e+02, 1.86745817e+02, 4.90856586e+01, 2.79926946e+02,\n",
              "       1.21983026e+02, 2.15196380e+02, 2.92949231e+02, 4.03956638e+01,\n",
              "       1.59975031e+01, 2.05267199e+02, 2.49194543e+02, 1.87443005e+02,\n",
              "       6.49650049e+01, 1.85063902e+02, 4.82488631e+00, 2.36287548e+02,\n",
              "       1.71410242e+02, 2.33149536e+02, 1.67302790e+02, 1.06106002e+02,\n",
              "       1.35689419e+02, 5.30244853e+01, 1.05671483e+02, 2.01784641e+02,\n",
              "       1.97448893e+02, 2.38733907e+02, 1.32799691e+02, 2.91785186e+02,\n",
              "       1.54934576e+02, 1.92712067e+02, 7.19447710e+00, 6.41187775e+01,\n",
              "       5.90587434e+01, 4.72354229e+01, 2.38766186e+02, 4.35351924e+01,\n",
              "       9.85790715e+01, 1.06876737e+01, 1.68961376e+02, 6.14856521e+01,\n",
              "       2.89372547e+02, 2.18761949e+02, 2.57648723e+02, 1.26663328e+02,\n",
              "       3.45856194e+02, 3.11884770e+02, 2.19931714e+02, 1.32323660e+02,\n",
              "       2.47223367e+02, 1.05380587e+02, 1.37783915e+02, 2.21803725e+02,\n",
              "       2.03562341e+02, 3.16497850e+02, 1.85052976e+02, 5.05252454e+00,\n",
              "       3.20198335e+02, 3.72991508e+02, 3.30318382e+02, 1.85591051e+02,\n",
              "       2.53349666e+02, 1.06511889e+02, 3.71282835e+02, 2.17694626e+02,\n",
              "       1.75687727e+02, 1.21681422e+02, 2.98313037e+02, 2.04233244e+01,\n",
              "       2.13931921e+02, 8.20897470e+01, 2.68781898e+02, 2.44971126e+02,\n",
              "       3.36249241e+02, 6.67856565e+01, 1.74096213e+02, 1.01636161e+02,\n",
              "       3.45696587e+02, 3.67806296e+01, 2.08779786e+01, 6.03382191e-01,\n",
              "       2.51774229e+02, 1.15065153e+02, 3.19984450e+02, 8.76112353e+01,\n",
              "       2.74354053e+02, 2.25003917e+02, 2.70333192e+02, 3.13249071e+02,\n",
              "       4.60475977e+01, 2.55102373e+02, 2.30100684e+01, 2.70808718e+02,\n",
              "       6.70369774e+01, 2.31029072e+01, 1.17945361e+02, 1.14366841e+02,\n",
              "       3.11375745e+02, 3.40252362e+02, 1.70302204e+02, 3.13514826e+02,\n",
              "       2.31739137e+02, 2.81980082e+02, 1.81659781e+02, 1.83812697e+02,\n",
              "       3.55995256e+02, 4.62487237e+01, 4.03867970e+02, 2.80145802e+02,\n",
              "       3.04121974e+02, 2.32822040e+02, 4.53050255e+01, 3.46804911e+02,\n",
              "       1.56740647e+02, 3.19990738e+02, 8.26298207e+01, 2.28055136e+02,\n",
              "       1.00992298e+02, 2.20159561e+02, 3.10254370e+02, 3.87074188e+02,\n",
              "       3.06631845e+02, 3.83164307e+01, 4.00691562e+02, 2.93625017e+02,\n",
              "       6.59318394e+01, 2.49651691e+02, 1.90763519e+02, 2.02551245e+02,\n",
              "       1.43255754e+02, 2.63078915e+02, 1.83063201e+02, 1.93677735e+02,\n",
              "       2.06234243e+02, 2.60385478e+02, 1.33152272e+02, 2.01691015e+02,\n",
              "       2.66249231e+02, 8.93358899e+01, 9.67274235e+01, 3.21447614e+02,\n",
              "       2.41302185e+02, 2.00177878e+02, 3.31363464e+02, 5.60961781e+01,\n",
              "       3.29601733e+02, 4.43803371e+01, 4.30311282e+02, 3.46771167e+01,\n",
              "       1.28229027e+02, 2.47991952e+00, 3.65487602e+02, 9.59017976e+01,\n",
              "       4.38174303e+02, 4.52278967e+02, 7.57985207e+01, 3.80302268e+02,\n",
              "       2.15892606e+02, 5.48370626e+00, 4.71218393e+02, 1.08685540e+02,\n",
              "       2.88241772e+02, 8.98052233e+01, 7.59451973e+01, 1.00698790e+02,\n",
              "       1.46995310e+01, 4.67577582e+01, 2.13919654e+02, 1.68026798e+02,\n",
              "       1.44528641e+02, 1.69217100e+02, 2.58774956e+02, 1.69914600e+02,\n",
              "       4.71927460e+02, 1.95723226e+02, 3.51999402e+02, 2.49799989e+02,\n",
              "       3.44763877e+02, 4.33414595e+02, 3.26623257e+02, 3.17197410e+02,\n",
              "       1.83009848e+02, 1.12451867e+02, 3.18388579e+02, 2.32339589e+02,\n",
              "       2.67476289e+02, 1.55156184e+01, 4.00414236e+02, 4.26214932e+02,\n",
              "       2.18473059e+02, 2.55993850e+02, 1.69757982e+02, 1.35601300e+02,\n",
              "       4.85765224e+02, 4.35673790e+02, 9.44299060e+01, 1.07536698e+01,\n",
              "       4.07112977e+02, 3.81048165e+02, 8.56118644e+01, 2.76502213e+02,\n",
              "       1.93479097e+02, 2.60289147e+02, 4.14823154e+02, 4.03549888e+02,\n",
              "       3.60454966e+02, 3.47532376e+02, 1.87329420e+02, 4.12412058e+02,\n",
              "       4.52620055e+02, 4.15061667e+02, 4.17020705e+02, 3.17279432e+01,\n",
              "       5.68937951e+00, 3.28710819e+02, 2.52876634e+02, 1.51636512e+02,\n",
              "       2.07036621e+02, 4.81914522e+02, 1.07226555e+02, 2.70063699e+02,\n",
              "       4.93991502e+02, 2.53594669e+02, 2.27064400e+02, 4.40992558e+02,\n",
              "       4.81896945e+02, 1.65919034e+02, 4.46416796e+02, 5.16888993e+02,\n",
              "       5.06076054e+02, 1.06958898e+02, 3.40947468e+02, 1.55884146e+02,\n",
              "       1.25709252e+02, 4.15004048e+02, 5.26852561e+02, 5.27418165e+02,\n",
              "       2.21260200e+02, 3.53733484e+02, 9.58281365e+01, 4.03795618e+02,\n",
              "       2.89565471e+02, 3.14672180e+02, 3.50249060e+02, 4.65782156e+01,\n",
              "       1.98868029e+02, 7.03735047e+01, 4.66094798e+02, 5.35841629e+02,\n",
              "       1.27191546e+02, 4.52505589e+02, 3.72141081e+02, 4.33957810e+02,\n",
              "       1.91856281e+01, 1.92229140e+02, 4.72065178e+01, 1.27173903e+01,\n",
              "       3.30797256e+02, 5.08714538e+02, 2.22152308e+02, 4.22399537e+02,\n",
              "       4.08946120e+02, 3.66081662e+02, 4.78501528e+02, 6.98617238e+00,\n",
              "       5.51828790e+02, 1.89330665e+02, 3.14274615e+02, 5.45456530e+02,\n",
              "       2.26657175e+02, 5.77333973e+02, 2.71048256e+02, 5.25509463e+01,\n",
              "       3.25560768e+02, 6.21915950e+01, 3.53464180e+02, 1.55794468e+01,\n",
              "       4.00523668e+02, 5.28783881e+02, 1.25357885e+02, 2.58533156e+02,\n",
              "       5.40789751e+02, 3.80649337e+02, 3.01382619e+01, 8.01134869e+01,\n",
              "       3.30224001e+02, 1.50820152e+01, 1.91810843e+02, 3.19850203e+02,\n",
              "       1.49056695e+01, 6.31575837e+01, 3.71444480e+02, 1.94116927e+02,\n",
              "       1.87537257e+02, 5.69101192e+02, 2.71216161e+02, 2.99394300e+02,\n",
              "       2.32350569e+02, 3.05040914e+02, 4.53664929e+02, 5.95156053e+02,\n",
              "       6.01584573e+02, 1.87948133e+02, 2.83201184e+01, 1.22300552e+02,\n",
              "       2.51422754e+02, 2.77018493e+02, 4.81506229e+01, 5.26258684e+02,\n",
              "       3.01139527e+02, 3.06037448e+02, 2.42006277e+02, 5.15516502e+02,\n",
              "       6.72166606e+01, 1.23416225e+02, 1.21088124e+01, 5.21268021e+02,\n",
              "       4.17597410e+02, 5.73091704e+02, 5.91794309e+02, 5.66387356e+02,\n",
              "       5.68207243e+02, 6.29867914e+02, 3.93063979e+02, 3.97314892e+02,\n",
              "       2.48212577e+02, 3.85200179e+02, 3.60101968e+02, 1.21302401e+02,\n",
              "       1.13247654e+02, 4.04052260e+01, 5.94786937e+02, 5.67510546e+02,\n",
              "       1.88865012e+02, 9.20586222e+01, 4.04651154e+02, 5.55148242e+02,\n",
              "       2.92166968e+01, 6.60196868e+01, 3.57592306e+02, 1.28656765e+02,\n",
              "       2.56459602e+02, 3.66707111e+02, 3.48422808e+02, 5.09043863e+02,\n",
              "       5.21454743e+02, 1.31148730e+02, 2.75055485e+02, 3.31490561e+02,\n",
              "       5.22508367e+02, 1.34299225e+02, 2.32749237e+02, 4.22497446e+02,\n",
              "       2.83132506e+02, 4.99861134e+02, 5.30780669e+02, 2.34132363e+01,\n",
              "       2.22747109e+02, 3.96625005e+02, 3.51654785e+02, 4.96007646e+02,\n",
              "       1.97509303e+02, 5.23490595e+02, 2.03542061e+02, 5.81241229e+02,\n",
              "       2.40285587e+01, 1.48400395e+02, 2.36648164e+01, 2.22533982e+02,\n",
              "       5.87874283e+02, 2.28851952e+02, 4.87583477e+02, 1.75536959e+02,\n",
              "       2.13786710e+02, 1.20365506e+02, 5.06030695e+02, 3.60249830e+02,\n",
              "       6.66933946e+02, 2.08110186e+02, 2.35615970e+01, 1.92750160e+02,\n",
              "       3.78660987e+02, 1.26589343e+02, 4.61036929e+02, 3.49439785e+02,\n",
              "       2.98102948e+02, 3.79154827e+02, 1.81364718e+02, 2.39970017e+01,\n",
              "       5.10782463e+02, 1.42791424e+02, 3.36042218e+02, 1.21915369e+02,\n",
              "       1.09492503e+02, 5.95239144e+02, 5.19542384e+02, 9.08959728e-01,\n",
              "       5.92801808e+02, 5.51281297e+01, 3.91851545e+02, 6.53877690e+02,\n",
              "       3.33844136e+02, 8.81298171e+01, 4.58972548e+02, 1.41574271e+02,\n",
              "       5.47685784e+02, 5.14479519e+02, 4.32801080e+01, 7.19799931e+02,\n",
              "       3.88788155e+02, 5.63627507e+02, 1.22169365e+02, 4.63964182e+02,\n",
              "       5.92561326e+02, 7.22735609e+02, 2.77772337e+02, 4.31587793e+02,\n",
              "       1.92516348e+02, 3.31583446e+02, 3.24157093e+00, 7.48172392e+01,\n",
              "       4.70818147e+02, 6.95252968e+02, 5.51047560e+02, 2.23765101e+02,\n",
              "       3.46902216e+02, 5.03156923e+02, 3.54301937e+02, 5.66518328e+02,\n",
              "       5.50655710e+02, 3.97116455e+02, 6.32035010e+02, 3.00407395e+02,\n",
              "       5.42194570e+02, 6.37331196e+02, 4.35379177e+02, 2.62042635e+02,\n",
              "       3.83511278e+02, 2.13488430e+02, 6.20667286e+01, 3.06788804e+02,\n",
              "       6.98924963e+02, 1.51235411e+02, 7.36846791e+02, 1.17607964e+02,\n",
              "       7.54408679e+02, 7.25613341e+02, 2.58722910e+01, 3.16049305e+01,\n",
              "       1.52979562e+02, 5.80991604e+02, 1.38417123e+02, 2.38808724e+02,\n",
              "       7.02264848e+02, 3.91935639e+02, 3.33596765e+02, 6.75819786e+02,\n",
              "       7.53692571e+02, 7.48727788e+02, 3.96395094e+02, 1.01823078e+02,\n",
              "       2.02764855e+02, 1.47348679e+02, 7.17768242e+02, 4.15033475e+02,\n",
              "       6.51561904e+02, 8.83272926e+01, 1.41737785e+02, 4.54835332e+02,\n",
              "       2.22793545e+02, 3.77220528e+02, 4.99600479e+02, 6.69095135e+01,\n",
              "       7.27284623e+02, 5.40352240e+02, 1.95843909e+02, 5.18125020e+02,\n",
              "       1.57526050e+01, 1.97555691e+02, 2.28905161e+02, 6.48269003e+02,\n",
              "       6.42135984e+02, 8.67233176e+01, 5.95366456e+02, 2.04565375e+02,\n",
              "       5.17065079e+02, 5.23928645e+01, 9.32430631e+01, 1.42230829e+02,\n",
              "       6.17341236e+02, 3.68803252e+02, 3.13508364e+02, 4.37263916e+02,\n",
              "       2.25627529e+02, 5.41422443e+02, 2.96986735e+02, 7.77882577e+02,\n",
              "       6.37938664e+02, 5.32521983e+02, 8.06871657e+01, 4.99050168e+02,\n",
              "       4.00196820e+02, 5.77277702e+02, 5.21436926e+02, 4.07282761e+02,\n",
              "       6.41710357e+02, 5.75384350e+02, 8.08432360e+02, 3.19135570e+02,\n",
              "       7.40811778e+02, 2.77861396e+01, 5.62259184e+02, 6.99095687e+02,\n",
              "       1.73858816e+02, 6.54149882e+02, 6.31379433e+02, 4.92505701e+02,\n",
              "       5.28164962e+02, 7.71736741e+01, 8.34755882e+02, 2.21228323e+02,\n",
              "       7.40906663e+02, 2.93904529e+02, 2.77567907e+02, 3.90136562e+02,\n",
              "       3.79583185e+02, 7.85858806e+02, 4.33119063e-01, 1.63446642e+02,\n",
              "       3.60972515e+02, 3.11721656e+02, 5.98656280e+01, 7.64550982e+02,\n",
              "       5.90985313e+02, 3.44365482e+01, 5.19435838e+02, 3.05041695e+02,\n",
              "       1.54519870e+02, 2.71642194e+02, 2.27785299e+02, 4.28662874e+02,\n",
              "       3.68812410e+02, 4.73700863e+02, 3.65959116e+02, 2.05367833e+02,\n",
              "       7.13608038e+02, 5.63562244e+02, 3.74863637e+02, 1.01941230e+01,\n",
              "       7.72741402e+02, 2.10869409e+02, 3.34180344e+02, 4.56986378e+02,\n",
              "       2.05211545e+02, 6.40907423e+01, 2.34607307e+02, 2.49625958e+02,\n",
              "       5.33544390e+02, 5.33867380e+02, 1.10095007e+01, 3.15876832e+02,\n",
              "       1.13742380e+02, 7.19175458e+02, 6.62539934e+02, 3.92111950e+02,\n",
              "       3.07431666e+01, 8.48268326e+02, 7.60488585e+02, 6.33761957e+02,\n",
              "       4.75216115e+02, 1.92722881e+02, 6.56532640e+02, 1.94430991e+02,\n",
              "       4.89645024e+02, 2.00107037e+02, 4.89370705e+02, 7.15080152e+02,\n",
              "       4.63654829e+02, 5.24491405e+02, 6.04159731e+02, 6.58334688e+02,\n",
              "       3.28972257e+02, 5.75866411e+02, 8.50314232e+02, 6.26454080e+02,\n",
              "       3.04241687e+02, 4.76335568e+02, 3.27957566e+02, 7.85808570e+02,\n",
              "       4.12210293e+00, 6.20220137e+02, 4.24205260e+02, 4.59455819e+02,\n",
              "       1.59651114e+02, 5.66577748e+02, 3.74751957e+02, 1.36191939e+02,\n",
              "       3.08063005e+02, 6.13193759e+02, 3.77174167e+02, 1.09435795e+02,\n",
              "       2.05502010e+02, 5.26420013e+02, 2.81958210e+02, 2.49660860e+02,\n",
              "       5.10607081e+01, 8.32209051e+01, 4.25591597e+02, 3.98913684e+02,\n",
              "       4.73110553e+02, 9.16550028e+02, 8.65733914e+02, 2.39077835e+02,\n",
              "       3.57902166e+02, 7.03204712e+02, 4.05650724e+02, 6.33572824e+02,\n",
              "       3.50851510e+02, 1.28752307e+02, 1.78555200e+02, 3.41090915e+02,\n",
              "       1.96476278e+02, 7.37767782e+02, 3.55554197e+02, 4.69047961e+02,\n",
              "       2.70468618e+02, 5.54368240e+02, 4.55083569e+02, 8.54679462e+02,\n",
              "       3.58280605e+02, 2.96903309e+02, 5.34886411e+02, 8.98897542e+02,\n",
              "       3.72282511e+01, 6.24162678e+02, 7.85660889e+02, 4.96107858e+02,\n",
              "       2.50740249e+02, 7.91712137e+02, 9.40115956e+02, 4.48736897e+02,\n",
              "       2.52627347e+02, 6.69747089e+02, 4.93349712e+02, 8.94819157e+02,\n",
              "       5.75875279e+02, 7.61287529e+02, 7.18504874e+02, 2.14166645e+02,\n",
              "       5.79765950e+02, 6.73733667e+02, 1.36277260e+02, 8.73584509e+02,\n",
              "       4.53299131e+02, 3.14114195e+02, 1.63180108e+02, 9.59127185e+01,\n",
              "       2.17583388e+02, 4.91152666e+02, 8.03543168e+02, 6.02830029e+02,\n",
              "       9.55140338e+02, 3.15445788e+01, 7.37852125e+02, 5.91318123e+02,\n",
              "       1.56474728e+02, 2.34510236e+02, 6.83599442e+02, 6.03223040e+02,\n",
              "       6.53816517e+02, 3.63345417e+01, 4.17569312e+02, 3.22978354e+01,\n",
              "       5.62761719e+02, 8.63765831e+02, 5.63764473e+02, 6.75887117e+02,\n",
              "       6.14149658e+02, 2.09994081e+02, 7.32900401e+02, 2.97373393e+02,\n",
              "       5.34163714e+02, 2.21647405e+02, 5.72779065e+02, 4.06352969e+02])"
            ]
          },
          "metadata": {
            "tags": []
          },
          "execution_count": 23
        }
      ]
    },
    {
      "cell_type": "markdown",
      "metadata": {
        "id": "eF-TpWJWKoGb",
        "colab_type": "text"
      },
      "source": [
        "We now have sales prices for 1000 items currently for sale at BuyStuff. Now create an RDD called `price_items` using the newly created data with 10 slices. After you create it, use one of the basic actions to see what's in the RDD."
      ]
    },
    {
      "cell_type": "code",
      "metadata": {
        "id": "shYXecXWKoGc",
        "colab_type": "code",
        "colab": {
          "base_uri": "https://localhost:8080/",
          "height": 272
        },
        "outputId": "7cfc92ef-cafd-4179-d330-2f0e9d378426"
      },
      "source": [
        "price_items = sc.parallelize(sales_figures, numSlices=10)\n",
        "price_items.take(15)"
      ],
      "execution_count": 24,
      "outputs": [
        {
          "output_type": "execute_result",
          "data": {
            "text/plain": [
              "[0.4275238112926609,\n",
              " 0.4031519601395639,\n",
              " 2.2719483477500684,\n",
              " 1.189184042641433,\n",
              " 4.805934446219367,\n",
              " 4.394630515020783,\n",
              " 2.6067973520865957,\n",
              " 1.5432347580948118,\n",
              " 3.3113795659948613,\n",
              " 8.615472365367715,\n",
              " 8.647448178226801,\n",
              " 8.164641486744665,\n",
              " 2.760837961125134,\n",
              " 11.32339869193781,\n",
              " 9.18034298741222]"
            ]
          },
          "metadata": {
            "tags": []
          },
          "execution_count": 24
        }
      ]
    },
    {
      "cell_type": "markdown",
      "metadata": {
        "id": "kvloh7avKoGe",
        "colab_type": "text"
      },
      "source": [
        "Now let's perform some operations on this simple dataset. To begin with, create a function that will take into account how much money BuyStuff will receive after sales tax has been applied (assume a sales tax of 8%). To make this happen, create a function called `sales_tax()` that returns the amount of money our company will receive after the sales tax has been applied. The function will have this parameter:\n",
        "\n",
        "* `item`: (float) number to be multiplied by the sales tax.\n",
        "\n",
        "\n",
        "Apply that function to the rdd by using the `.map()` method and assign it to a variable `renenue_minus_tax`"
      ]
    },
    {
      "cell_type": "code",
      "metadata": {
        "id": "5q2so6yJKoGf",
        "colab_type": "code",
        "colab": {}
      },
      "source": [
        "def sales_tax(num):\n",
        "    # deducting 0.8 since sales tax will be deducted from the revenue\n",
        "    return num*0.92\n",
        "\n",
        "revenue_minus_tax = price_items.map(sales_tax)"
      ],
      "execution_count": 25,
      "outputs": []
    },
    {
      "cell_type": "markdown",
      "metadata": {
        "id": "fHVJUwOhKoGh",
        "colab_type": "text"
      },
      "source": [
        "Remember, Spark has __lazy evaluation__, which means that the `sales_tax()` function is a transformer that is not executed until you call an action. Use one of the collection methods to execute the transformer now a part of the RDD and observe the contents of the `revenue_minus_tax` rdd."
      ]
    },
    {
      "cell_type": "code",
      "metadata": {
        "scrolled": true,
        "id": "Ti70sFZwKoGh",
        "colab_type": "code",
        "colab": {
          "base_uri": "https://localhost:8080/",
          "height": 187
        },
        "outputId": "7d3ecf87-38e7-47eb-acd3-6a061eb1f819"
      },
      "source": [
        "# perform action to retrieve rdd values\n",
        "revenue_minus_tax.take(10)"
      ],
      "execution_count": 29,
      "outputs": [
        {
          "output_type": "execute_result",
          "data": {
            "text/plain": [
              "[0.3933219063892481,\n",
              " 0.3708998033283988,\n",
              " 2.090192479930063,\n",
              " 1.0940493192301184,\n",
              " 4.421459690521818,\n",
              " 4.04306007381912,\n",
              " 2.3982535639196683,\n",
              " 1.419775977447227,\n",
              " 3.0464692007152725,\n",
              " 7.926234576138298]"
            ]
          },
          "metadata": {
            "tags": []
          },
          "execution_count": 29
        }
      ]
    },
    {
      "cell_type": "markdown",
      "metadata": {
        "id": "XGS97nYqKoGj",
        "colab_type": "text"
      },
      "source": [
        "### Lambda Functions\n",
        "\n",
        "Note that you can also use lambda functions if you want to quickly perform simple operations on data without creating a function. Let's assume that BuyStuff has also decided to offer a 10% discount on all of their items on the pre-tax amounts of each item. Use a lambda function within a `.map()` method to apply the additional 10% loss in revenue for BuyStuff and assign the transformed RDD to a new RDD called `discounted`."
      ]
    },
    {
      "cell_type": "code",
      "metadata": {
        "id": "U9S-yfgbKoGk",
        "colab_type": "code",
        "colab": {}
      },
      "source": [
        "discounted = revenue_minus_tax.map(lambda x: x*0.9)"
      ],
      "execution_count": 30,
      "outputs": []
    },
    {
      "cell_type": "code",
      "metadata": {
        "scrolled": true,
        "id": "--74aEG9KoGl",
        "colab_type": "code",
        "colab": {
          "base_uri": "https://localhost:8080/",
          "height": 187
        },
        "outputId": "13be4d24-9231-43f1-c37d-f91e1c564f18"
      },
      "source": [
        "discounted.take(10)"
      ],
      "execution_count": 31,
      "outputs": [
        {
          "output_type": "execute_result",
          "data": {
            "text/plain": [
              "[0.3539897157503233,\n",
              " 0.3338098229955589,\n",
              " 1.8811732319370567,\n",
              " 0.9846443873071066,\n",
              " 3.9793137214696364,\n",
              " 3.6387540664372082,\n",
              " 2.1584282075277015,\n",
              " 1.2777983797025043,\n",
              " 2.741822280643745,\n",
              " 7.133611118524469]"
            ]
          },
          "metadata": {
            "tags": []
          },
          "execution_count": 31
        }
      ]
    },
    {
      "cell_type": "markdown",
      "metadata": {
        "id": "8eiwvYrtKoGp",
        "colab_type": "text"
      },
      "source": [
        "## Chaining Methods\n",
        "\n",
        "You are also able to chain methods together with Spark. In one line, remove the tax and discount from the revenue of BuyStuff and use a collection method to see the 15 costliest items."
      ]
    },
    {
      "cell_type": "code",
      "metadata": {
        "scrolled": true,
        "id": "ZiNUA1IjKoGp",
        "colab_type": "code",
        "colab": {
          "base_uri": "https://localhost:8080/",
          "height": 272
        },
        "outputId": "5646ab6c-273d-47be-e211-e9d398cf1bae"
      },
      "source": [
        "price_items.map(sales_tax).map(lambda x : x*0.9).top(15)"
      ],
      "execution_count": 32,
      "outputs": [
        {
          "output_type": "execute_result",
          "data": {
            "text/plain": [
              "[790.8562001839473,\n",
              " 778.416011876469,\n",
              " 758.9034230884556,\n",
              " 744.2871649451679,\n",
              " 740.910261804524,\n",
              " 723.3279735391712,\n",
              " 716.8276809778097,\n",
              " 715.1981084493444,\n",
              " 707.6745942372395,\n",
              " 704.0601837899915,\n",
              " 702.3661735218192,\n",
              " 691.1778701066436,\n",
              " 669.3819944617372,\n",
              " 665.3337428856335,\n",
              " 655.5376494257858]"
            ]
          },
          "metadata": {
            "tags": []
          },
          "execution_count": 32
        }
      ]
    },
    {
      "cell_type": "markdown",
      "metadata": {
        "id": "AM4Q8LKDKoGr",
        "colab_type": "text"
      },
      "source": [
        "## RDD Lineage\n",
        "\n",
        "\n",
        "We are able to see the full lineage of all the operations that have been performed on an RDD by using the `RDD.toDebugString()` method. As your transformations become more complex, you are encouraged to call this method to get a better understanding of the dependencies between RDDs. Try calling it on the `discounted` RDD to see what RDDs it is dependent on."
      ]
    },
    {
      "cell_type": "code",
      "metadata": {
        "id": "5nde1DcBKoGs",
        "colab_type": "code",
        "colab": {
          "base_uri": "https://localhost:8080/",
          "height": 54
        },
        "outputId": "d8aee732-10a5-4b9e-fc11-836674cfa619"
      },
      "source": [
        "discounted.toDebugString()"
      ],
      "execution_count": 33,
      "outputs": [
        {
          "output_type": "execute_result",
          "data": {
            "text/plain": [
              "b'(10) PythonRDD[13] at RDD at PythonRDD.scala:53 []\\n |   ParallelCollectionRDD[6] at parallelize at PythonRDD.scala:195 []'"
            ]
          },
          "metadata": {
            "tags": []
          },
          "execution_count": 33
        }
      ]
    },
    {
      "cell_type": "markdown",
      "metadata": {
        "id": "RufW5UaeKoGu",
        "colab_type": "text"
      },
      "source": [
        "### Map vs. Flatmap\n",
        "\n",
        "Depending on how you want your data to be outputted, you might want to use `.flatMap()` rather than a simple `.map()`. Let's take a look at how it performs operations versus the standard map. Let's say we wanted to maintain the original amount BuyStuff receives for each item as well as the new amount after the tax and discount are applied. Create a map function that will return a tuple with (original price, post-discount price)."
      ]
    },
    {
      "cell_type": "code",
      "metadata": {
        "id": "Nz-EsHMPKoGv",
        "colab_type": "code",
        "colab": {
          "base_uri": "https://localhost:8080/",
          "height": 71
        },
        "outputId": "c9bb83d0-1b72-42f1-b3f8-d59fe443344d"
      },
      "source": [
        "mapped = price_items.map( lambda x: (x, x*0.92 *0.9))\n",
        "print(mapped.count())\n",
        "print(mapped.take(10))"
      ],
      "execution_count": 34,
      "outputs": [
        {
          "output_type": "stream",
          "text": [
            "1000\n",
            "[(0.4275238112926609, 0.3539897157503233), (0.4031519601395639, 0.3338098229955589), (2.2719483477500684, 1.8811732319370567), (1.189184042641433, 0.9846443873071066), (4.805934446219367, 3.9793137214696364), (4.394630515020783, 3.6387540664372082), (2.6067973520865957, 2.1584282075277015), (1.5432347580948118, 1.2777983797025043), (3.3113795659948613, 2.741822280643745), (8.615472365367715, 7.133611118524469)]\n"
          ],
          "name": "stdout"
        }
      ]
    },
    {
      "cell_type": "markdown",
      "metadata": {
        "id": "85g-mxsQKoGx",
        "colab_type": "text"
      },
      "source": [
        "Note that we have 1000 tuples created to our specification. Let's take a look at how `.flatMap()` differs in its implementation. Use the `.flatMap()` method with the same function you created above."
      ]
    },
    {
      "cell_type": "code",
      "metadata": {
        "id": "nqud3LDgKoGx",
        "colab_type": "code",
        "colab": {
          "base_uri": "https://localhost:8080/",
          "height": 71
        },
        "outputId": "e8d054eb-b211-4cc1-b124-4b46d22125c9"
      },
      "source": [
        "flat_mapped = price_items.flatMap(lambda x: (x, x*.92 *.9))\n",
        "print(flat_mapped.count())\n",
        "print(flat_mapped.take(10))"
      ],
      "execution_count": 35,
      "outputs": [
        {
          "output_type": "stream",
          "text": [
            "2000\n",
            "[0.4275238112926609, 0.3539897157503233, 0.4031519601395639, 0.3338098229955589, 2.2719483477500684, 1.8811732319370567, 1.189184042641433, 0.9846443873071066, 4.805934446219367, 3.9793137214696364]\n"
          ],
          "name": "stdout"
        }
      ]
    },
    {
      "cell_type": "markdown",
      "metadata": {
        "id": "FBYQHxuaKoGz",
        "colab_type": "text"
      },
      "source": [
        "Rather than being represented by tuples, all of the  values are now on the same level. When we are trying to combine different items together, it is sometimes necessary to use `.flatMap()` rather than `.map()` in order to properly reduce to our specifications. This is not one of those instances, but in the upcoming lab, you just might have to use it."
      ]
    },
    {
      "cell_type": "markdown",
      "metadata": {
        "id": "t9C4PlG2KoG0",
        "colab_type": "text"
      },
      "source": [
        "## Filter\n",
        "After meeting with some external consultants, BuyStuff has determined that its business will be more profitable if it focuses on higher ticket items. Now, use the `.filter()` method to select items that bring in more than $300 after tax and discount have been removed. A filter method is a specialized form of a map function that only returns the items that match a certain criterion. In the cell below:\n",
        "* use a lambda function within a `.filter()` method to meet the consultant's suggestion's specifications. set `RDD = selected_items`\n",
        "* calculate the total number of items remaining in BuyStuff's inventory"
      ]
    },
    {
      "cell_type": "code",
      "metadata": {
        "id": "URdZMz_JKoG0",
        "colab_type": "code",
        "colab": {
          "base_uri": "https://localhost:8080/",
          "height": 34
        },
        "outputId": "b5ddf036-c7de-4054-cc63-f07eda9edd0e"
      },
      "source": [
        "# use the filter function\n",
        "selected_items = discounted.filter(lambda x: x > 300)\n",
        "\n",
        "# calculate total remaining in inventory \n",
        "selected_items.count()"
      ],
      "execution_count": 36,
      "outputs": [
        {
          "output_type": "execute_result",
          "data": {
            "text/plain": [
              "263"
            ]
          },
          "metadata": {
            "tags": []
          },
          "execution_count": 36
        }
      ]
    },
    {
      "cell_type": "markdown",
      "metadata": {
        "id": "f845lAP1KoG2",
        "colab_type": "text"
      },
      "source": [
        "## Reduce\n",
        "\n",
        "Reduce functions are where you are in some way combing all of the variables that you have mapped out. Here is an example of how a reduce function works when the task is to sum all values:\n",
        "\n",
        "<img src = \"./images/reduce_function.png\" width = \"600\">  \n",
        "\n",
        "\n",
        "As you can see, the operation is performed within each partition first, after which, the results of the computations in each partition are combined to come up with one final answer.  \n",
        "\n",
        "Now it's time to figure out how much money BuyStuff would make from selling one of all of its items after they've reduced their inventory. Use the `.reduce()` method with a lambda function to add up all of the values in the RDD. Your lambda function should have two variables. "
      ]
    },
    {
      "cell_type": "code",
      "metadata": {
        "id": "FHHCUK4mKoG2",
        "colab_type": "code",
        "colab": {
          "base_uri": "https://localhost:8080/",
          "height": 34
        },
        "outputId": "ba2d68a1-f183-4f3e-eeab-1407a75d23f6"
      },
      "source": [
        "selected_items.reduce(lambda x, y: x + y)"
      ],
      "execution_count": 37,
      "outputs": [
        {
          "output_type": "execute_result",
          "data": {
            "text/plain": [
              "119704.56986320377"
            ]
          },
          "metadata": {
            "tags": []
          },
          "execution_count": 37
        }
      ]
    },
    {
      "cell_type": "markdown",
      "metadata": {
        "id": "IYLIAUnVKoG5",
        "colab_type": "text"
      },
      "source": [
        "The time has come for BuyStuff to open up shop and start selling its goods. It only has one of each item, but it's allowing 50 lucky users to buy as many items as they want while they remain in stock. Within seconds, BuyStuff is sold out. Below, you'll find the sales data in an RDD with tuples of (user, item bought)."
      ]
    },
    {
      "cell_type": "code",
      "metadata": {
        "id": "y_q0NGpXKoG6",
        "colab_type": "code",
        "colab": {
          "base_uri": "https://localhost:8080/",
          "height": 136
        },
        "outputId": "4af3828b-eda8-4a71-e364-d3c5eec751b5"
      },
      "source": [
        "import random\n",
        "random.seed(42)\n",
        "# generating simulated users that have bought each item\n",
        "sales_data = selected_items.map(lambda x: (random.randint(1, 50), x))\n",
        "\n",
        "sales_data.take(7)"
      ],
      "execution_count": 38,
      "outputs": [
        {
          "output_type": "execute_result",
          "data": {
            "text/plain": [
              "[(17, 308.83696880679133),\n",
              " (15, 307.4221871227305),\n",
              " (17, 334.40267937557934),\n",
              " (15, 320.4974278129902),\n",
              " (48, 331.77261352708535),\n",
              " (47, 356.2977413803764),\n",
              " (35, 302.62373477816294)]"
            ]
          },
          "metadata": {
            "tags": []
          },
          "execution_count": 38
        }
      ]
    },
    {
      "cell_type": "markdown",
      "metadata": {
        "id": "5kNysFbaKoG8",
        "colab_type": "text"
      },
      "source": [
        "It's time to determine some basic statistics about BuyStuff users.\n",
        "\n",
        "Let's start off by creating an RDD that determines how much each user spent in total.\n",
        "To do this we can use a method called `.reduceByKey()` to perform reducing operations while grouping by keys. After you have calculated the total, use the `.sortBy()` method on the RDD to rank the users from the highest spending to the least spending. "
      ]
    },
    {
      "cell_type": "code",
      "metadata": {
        "id": "PSGmNhZVKoG9",
        "colab_type": "code",
        "colab": {
          "base_uri": "https://localhost:8080/",
          "height": 187
        },
        "outputId": "4d770906-4fb2-40dc-eedc-f752c506fc64"
      },
      "source": [
        "# calculate how much each user spent\n",
        "total_rdd = sales_data.reduceByKey(lambda x, y: x + y)\n",
        "total_rdd.top(10)"
      ],
      "execution_count": 41,
      "outputs": [
        {
          "output_type": "execute_result",
          "data": {
            "text/plain": [
              "[(50, 3663.1519641322166),\n",
              " (49, 1640.6599473386934),\n",
              " (48, 3163.2191736887394),\n",
              " (47, 1339.5497792815631),\n",
              " (46, 524.7549005218651),\n",
              " (45, 1358.7355048073136),\n",
              " (44, 809.4095608362982),\n",
              " (43, 4742.08845555165),\n",
              " (42, 1252.3463798954997),\n",
              " (41, 1932.247614349346)]"
            ]
          },
          "metadata": {
            "tags": []
          },
          "execution_count": 41
        }
      ]
    },
    {
      "cell_type": "code",
      "metadata": {
        "id": "oDXaFyDFKoG_",
        "colab_type": "code",
        "colab": {
          "base_uri": "https://localhost:8080/",
          "height": 867
        },
        "outputId": "231e64c4-3d82-431b-e44b-b842daa38b3d"
      },
      "source": [
        "# sort the users from highest to lowest spenders\n",
        "total_rdd.sortBy(lambda x: x[1], ascending=False).collect()"
      ],
      "execution_count": 42,
      "outputs": [
        {
          "output_type": "execute_result",
          "data": {
            "text/plain": [
              "[(22, 5128.6168958368025),\n",
              " (4, 5080.275269084312),\n",
              " (43, 4742.08845555165),\n",
              " (17, 4725.000587104096),\n",
              " (3, 3949.9893214752683),\n",
              " (50, 3663.1519641322166),\n",
              " (39, 3636.468517252868),\n",
              " (16, 3611.282851705735),\n",
              " (32, 3489.802960208879),\n",
              " (5, 3317.9799439591307),\n",
              " (48, 3163.2191736887394),\n",
              " (23, 3137.455687105382),\n",
              " (14, 2904.5867877239316),\n",
              " (1, 2861.5932491204994),\n",
              " (15, 2831.3507778209305),\n",
              " (34, 2813.8167007091097),\n",
              " (29, 2787.607758878883),\n",
              " (28, 2773.7215831182357),\n",
              " (24, 2770.4293186852074),\n",
              " (18, 2714.555472416552),\n",
              " (20, 2678.284152636498),\n",
              " (12, 2652.3793472572015),\n",
              " (25, 2606.7528282377975),\n",
              " (19, 2374.7930764876705),\n",
              " (27, 2374.264042147157),\n",
              " (35, 2321.7719178702473),\n",
              " (13, 2129.2928036631492),\n",
              " (38, 2125.6161779634886),\n",
              " (10, 2103.9563568497656),\n",
              " (2, 2103.500863802698),\n",
              " (30, 2050.8155316282855),\n",
              " (41, 1932.247614349346),\n",
              " (9, 1819.0792402449536),\n",
              " (26, 1724.3303792957267),\n",
              " (6, 1682.7737493605562),\n",
              " (49, 1640.6599473386934),\n",
              " (11, 1613.1624302690284),\n",
              " (33, 1459.5764017637962),\n",
              " (37, 1407.5283212500958),\n",
              " (21, 1375.4224602611398),\n",
              " (45, 1358.7355048073136),\n",
              " (7, 1339.901267088096),\n",
              " (47, 1339.5497792815631),\n",
              " (42, 1252.3463798954997),\n",
              " (36, 1169.507839023956),\n",
              " (8, 923.1493047744686),\n",
              " (44, 809.4095608362982),\n",
              " (46, 524.7549005218651),\n",
              " (40, 371.55415061398594),\n",
              " (31, 336.46025810499975)]"
            ]
          },
          "metadata": {
            "tags": []
          },
          "execution_count": 42
        }
      ]
    },
    {
      "cell_type": "markdown",
      "metadata": {
        "id": "FUtlfYnzKoHA",
        "colab_type": "text"
      },
      "source": [
        "Next, let's determine how many items were bought per user. This can be solved in one line using an RDD method. After you've counted the total number of items bought per person, sort the users from most number of items bought to least number of items. Time to start a customer loyalty program!"
      ]
    },
    {
      "cell_type": "code",
      "metadata": {
        "id": "8KdBw1blKoHB",
        "colab_type": "code",
        "colab": {
          "base_uri": "https://localhost:8080/",
          "height": 850
        },
        "outputId": "e4c61d62-5e7f-4721-ef1f-af99a0a65fd8"
      },
      "source": [
        "total_items = sales_data.countByKey()\n",
        "sorted(total_items.items(), key=lambda key: key[1], reverse=True)"
      ],
      "execution_count": 44,
      "outputs": [
        {
          "output_type": "execute_result",
          "data": {
            "text/plain": [
              "[(1, 13),\n",
              " (23, 12),\n",
              " (39, 9),\n",
              " (5, 9),\n",
              " (11, 9),\n",
              " (22, 9),\n",
              " (34, 9),\n",
              " (50, 8),\n",
              " (7, 8),\n",
              " (38, 8),\n",
              " (18, 8),\n",
              " (31, 8),\n",
              " (35, 8),\n",
              " (30, 7),\n",
              " (43, 7),\n",
              " (33, 7),\n",
              " (13, 7),\n",
              " (20, 6),\n",
              " (12, 6),\n",
              " (17, 5),\n",
              " (32, 5),\n",
              " (3, 5),\n",
              " (19, 5),\n",
              " (42, 5),\n",
              " (37, 5),\n",
              " (40, 5),\n",
              " (41, 5),\n",
              " (10, 4),\n",
              " (16, 4),\n",
              " (48, 4),\n",
              " (4, 4),\n",
              " (2, 4),\n",
              " (27, 4),\n",
              " (21, 4),\n",
              " (29, 4),\n",
              " (44, 4),\n",
              " (24, 4),\n",
              " (26, 3),\n",
              " (15, 3),\n",
              " (36, 3),\n",
              " (45, 3),\n",
              " (14, 2),\n",
              " (28, 2),\n",
              " (49, 2),\n",
              " (25, 2),\n",
              " (46, 2),\n",
              " (9, 1),\n",
              " (47, 1),\n",
              " (6, 1)]"
            ]
          },
          "metadata": {
            "tags": []
          },
          "execution_count": 44
        }
      ]
    },
    {
      "cell_type": "markdown",
      "metadata": {
        "id": "RzcKy8jAKoHC",
        "colab_type": "text"
      },
      "source": [
        "### Additional Reading\n",
        "\n",
        "- [The original paper on RDDs](https://cs.stanford.edu/~matei/papers/2012/nsdi_spark.pdf)\n",
        "- [RDDs in Apache Spark](https://data-flair.training/blogs/create-rdds-in-apache-spark/)\n",
        "- [Programming with RDDs](https://runawayhorse001.github.io/LearningApacheSpark/rdd.html)\n",
        "- [RDD Transformations and Actions Summary](https://www.analyticsvidhya.com/blog/2016/10/using-pyspark-to-perform-transformations-and-actions-on-rdd/)"
      ]
    },
    {
      "cell_type": "markdown",
      "metadata": {
        "id": "64W3OkEZKoHD",
        "colab_type": "text"
      },
      "source": [
        "## Summary\n",
        "\n",
        "In this lab we went through a brief introduction to RDD creation from a Python collection, setting a number of logical partitions for an RDD and extracting lineage. We also used transformations and actions to perform calculations across RDDs on a distributed setup. In the next lab, you'll get the chance to apply these transformations on different books to calculate word counts and various statistics.\n"
      ]
    }
  ]
}